{
 "cells": [
  {
   "cell_type": "markdown",
   "metadata": {},
   "source": [
    "# Decorators\n",
    "\n",
    "See PEPs [318](https://www.python.org/dev/peps/pep-0318/) and [3129](https://www.python.org/dev/peps/pep-3129/)"
   ]
  },
  {
   "cell_type": "code",
   "execution_count": 1,
   "metadata": {
    "collapsed": false
   },
   "outputs": [
    {
     "name": "stdout",
     "output_type": "stream",
     "text": [
      "Preprocess\n",
      "Execute foo:  7\n"
     ]
    }
   ],
   "source": [
    "def foo(x):\n",
    "    print('Preprocess')\n",
    "    print('Execute foo: ', x)\n",
    "\n",
    "foo(7)"
   ]
  },
  {
   "cell_type": "code",
   "execution_count": 2,
   "metadata": {
    "collapsed": false
   },
   "outputs": [
    {
     "name": "stdout",
     "output_type": "stream",
     "text": [
      "Preprocess\n",
      "Execute bar:  42\n"
     ]
    }
   ],
   "source": [
    "def bar(x):\n",
    "    print('Preprocess')\n",
    "    print('Execute bar: ', x)\n",
    "\n",
    "bar(42)"
   ]
  },
  {
   "cell_type": "markdown",
   "metadata": {},
   "source": [
    "**DRY!**"
   ]
  },
  {
   "cell_type": "code",
   "execution_count": 3,
   "metadata": {
    "collapsed": false
   },
   "outputs": [],
   "source": [
    "# We already know that a function can be passed, defined in another function or returned...\n",
    "def preprocess(f):\n",
    "    def wrap(x):\n",
    "        print('Preprocess')\n",
    "        f(x)\n",
    "    return wrap"
   ]
  },
  {
   "cell_type": "code",
   "execution_count": 4,
   "metadata": {
    "collapsed": false
   },
   "outputs": [
    {
     "name": "stdout",
     "output_type": "stream",
     "text": [
      "Preprocess\n",
      "Execute foo:  7\n"
     ]
    }
   ],
   "source": [
    "def foo2(x):\n",
    "    print('Execute foo: ', x)\n",
    "\n",
    "pfoo2 = preprocess(foo2)\n",
    "pfoo2(7)"
   ]
  },
  {
   "cell_type": "code",
   "execution_count": 5,
   "metadata": {
    "collapsed": false
   },
   "outputs": [
    {
     "name": "stdout",
     "output_type": "stream",
     "text": [
      "Preprocess\n",
      "Execute bar:  42\n"
     ]
    }
   ],
   "source": [
    "def bar2(x):\n",
    "    print('Execute bar: ', x)\n",
    "\n",
    "pbar2 = preprocess(bar2)\n",
    "pbar2(42)"
   ]
  },
  {
   "cell_type": "markdown",
   "metadata": {},
   "source": [
    "Or..."
   ]
  },
  {
   "cell_type": "code",
   "execution_count": 6,
   "metadata": {
    "collapsed": false
   },
   "outputs": [
    {
     "name": "stdout",
     "output_type": "stream",
     "text": [
      "Preprocess\n",
      "Execute foo:  7\n"
     ]
    }
   ],
   "source": [
    "@preprocess\n",
    "def foo3(x):\n",
    "    print('Execute foo: ', x)\n",
    "    \n",
    "foo3(7)"
   ]
  },
  {
   "cell_type": "code",
   "execution_count": 7,
   "metadata": {
    "collapsed": false
   },
   "outputs": [
    {
     "name": "stdout",
     "output_type": "stream",
     "text": [
      "Preprocess\n",
      "Execute bar:  42\n"
     ]
    }
   ],
   "source": [
    "@preprocess\n",
    "def bar3(x):\n",
    "    print('Execute bar: ', x)\n",
    "\n",
    "bar3(42)"
   ]
  },
  {
   "cell_type": "markdown",
   "metadata": {},
   "source": [
    "# Common Python Decorator Patterns"
   ]
  },
  {
   "cell_type": "markdown",
   "metadata": {},
   "source": [
    "- Wrapper layer for simple timing"
   ]
  },
  {
   "cell_type": "code",
   "execution_count": 8,
   "metadata": {
    "collapsed": false
   },
   "outputs": [
    {
     "name": "stdout",
     "output_type": "stream",
     "text": [
      "foo: 1.307075023651123\n"
     ]
    }
   ],
   "source": [
    "import time\n",
    "from functools import wraps\n",
    "\n",
    "def awesometimer(f):\n",
    "    '''Decorator that times a function f'''\n",
    "    @wraps(f)\n",
    "    def wrapper(*args, **kwargs):\n",
    "        start = time.time()\n",
    "        result = f(*args, **kwargs)\n",
    "        end = time.time()\n",
    "        print(f.__name__ + ':', end - start)\n",
    "        return result\n",
    "    return wrapper\n",
    "\n",
    "@awesometimer\n",
    "def foo(x):\n",
    "    '''Some computationally intensive function'''\n",
    "    while x % 10000000 != 0:\n",
    "        x += 1\n",
    "\n",
    "foo(1)"
   ]
  },
  {
   "cell_type": "markdown",
   "metadata": {},
   "source": [
    "- You want to write a logger which, let's assume involves passing args to a decorator"
   ]
  },
  {
   "cell_type": "code",
   "execution_count": 9,
   "metadata": {
    "collapsed": false
   },
   "outputs": [
    {
     "name": "stderr",
     "output_type": "stream",
     "text": [
      "CRITICAL:ohgodno:Oh God! Nooo!\n"
     ]
    },
    {
     "name": "stdout",
     "output_type": "stream",
     "text": [
      "Executing ohgodno\n"
     ]
    }
   ],
   "source": [
    "import logging\n",
    "from functools import wraps\n",
    "\n",
    "def logged(level, name=None, msg=None):\n",
    "    '''Adds logging'''\n",
    "    def decorate(f):\n",
    "        logname = name if name else f.__module__\n",
    "        log = logging.getLogger(logname)\n",
    "        logmsg = msg if msg else f.__name__\n",
    "        \n",
    "        @wraps(f)\n",
    "        def wrapper(*args, **kwargs):\n",
    "            log.log(level, logmsg)\n",
    "            return f(*args, **kwargs)\n",
    "        return wrapper\n",
    "    return decorate\n",
    "\n",
    "@logged(logging.CRITICAL, name='ohgodno', msg='Oh God! Nooo!')\n",
    "def ohgodno():\n",
    "    print('Executing ohgodno')\n",
    "    \n",
    "ohgodno()"
   ]
  },
  {
   "cell_type": "markdown",
   "metadata": {},
   "source": [
    "# Class as a decorator\n",
    "\n",
    "(... not decorating a class, that comes later too!)"
   ]
  },
  {
   "cell_type": "code",
   "execution_count": 10,
   "metadata": {
    "collapsed": false
   },
   "outputs": [
    {
     "name": "stdout",
     "output_type": "stream",
     "text": [
      "State:  0\n",
      "Begin complex processing...\n",
      "End complex processing\n",
      "State:  5\n",
      "foo4\n",
      "Post execution cleanup\n"
     ]
    }
   ],
   "source": [
    "class ComplexProcessor(object):\n",
    "    \"\"\"Amazing decorator\"\"\"\n",
    "    def __init__(self, f):\n",
    "        self.f, self.complex_flag = f, 0\n",
    "        wraps(f)(self)\n",
    "    \n",
    "    def complex_method(self):\n",
    "        \"\"\"complex processing\"\"\"\n",
    "        self.complex_flag = 5\n",
    "\n",
    "    def __call__(self, *args, **kwargs):\n",
    "        \"\"\"magic happens here\"\"\"\n",
    "        print('State: ', self.complex_flag)\n",
    "        print('Begin complex processing...')\n",
    "        self.complex_method()\n",
    "        print('End complex processing')\n",
    "        print('State: ', self.complex_flag)\n",
    "        response = self.f(*args, **kwargs)\n",
    "        print('Post execution cleanup')\n",
    "        return response\n",
    "\n",
    "\n",
    "@ComplexProcessor\n",
    "def foo4():\n",
    "    \"\"\"Some repeated function pattern\"\"\"\n",
    "    print('foo4')\n",
    "\n",
    "foo4()"
   ]
  },
  {
   "cell_type": "markdown",
   "metadata": {},
   "source": [
    "# Decorating a class\n",
    "[PEP 3129](https://www.python.org/dev/peps/pep-3129/)"
   ]
  },
  {
   "cell_type": "code",
   "execution_count": 11,
   "metadata": {
    "collapsed": false
   },
   "outputs": [
    {
     "ename": "ValueError",
     "evalue": "attendees too less! :-(",
     "output_type": "error",
     "traceback": [
      "\u001b[1;31m---------------------------------------------------------------------------\u001b[0m",
      "\u001b[1;31mValueError\u001b[0m                                Traceback (most recent call last)",
      "\u001b[1;32m<ipython-input-11-22cf77203b31>\u001b[0m in \u001b[0;36m<module>\u001b[1;34m()\u001b[0m\n\u001b[0;32m     31\u001b[0m         \u001b[0mself\u001b[0m\u001b[1;33m.\u001b[0m\u001b[0mattendees\u001b[0m \u001b[1;33m=\u001b[0m \u001b[0mattendees\u001b[0m\u001b[1;33m\u001b[0m\u001b[0m\n\u001b[0;32m     32\u001b[0m \u001b[1;33m\u001b[0m\u001b[0m\n\u001b[1;32m---> 33\u001b[1;33m \u001b[0mpycon\u001b[0m \u001b[1;33m=\u001b[0m \u001b[0mPycon\u001b[0m\u001b[1;33m(\u001b[0m\u001b[1;36m10\u001b[0m\u001b[1;33m)\u001b[0m \u001b[1;31m# will raise ValueError :-)\u001b[0m\u001b[1;33m\u001b[0m\u001b[0m\n\u001b[0m\u001b[0;32m     34\u001b[0m \u001b[0mpycon\u001b[0m \u001b[1;33m=\u001b[0m \u001b[0mPycon\u001b[0m\u001b[1;33m(\u001b[0m\u001b[1;36m1000\u001b[0m\u001b[1;33m)\u001b[0m \u001b[1;31m# will work fine! :-)\u001b[0m\u001b[1;33m\u001b[0m\u001b[0m\n",
      "\u001b[1;32m<ipython-input-11-22cf77203b31>\u001b[0m in \u001b[0;36m__init__\u001b[1;34m(self, attendees)\u001b[0m\n\u001b[0;32m     29\u001b[0m     \u001b[1;34m\"\"\"Pycon methods\"\"\"\u001b[0m\u001b[1;33m\u001b[0m\u001b[0m\n\u001b[0;32m     30\u001b[0m     \u001b[1;32mdef\u001b[0m \u001b[0m__init__\u001b[0m\u001b[1;33m(\u001b[0m\u001b[0mself\u001b[0m\u001b[1;33m,\u001b[0m \u001b[0mattendees\u001b[0m\u001b[1;33m)\u001b[0m\u001b[1;33m:\u001b[0m\u001b[1;33m\u001b[0m\u001b[0m\n\u001b[1;32m---> 31\u001b[1;33m         \u001b[0mself\u001b[0m\u001b[1;33m.\u001b[0m\u001b[0mattendees\u001b[0m \u001b[1;33m=\u001b[0m \u001b[0mattendees\u001b[0m\u001b[1;33m\u001b[0m\u001b[0m\n\u001b[0m\u001b[0;32m     32\u001b[0m \u001b[1;33m\u001b[0m\u001b[0m\n\u001b[0;32m     33\u001b[0m \u001b[0mpycon\u001b[0m \u001b[1;33m=\u001b[0m \u001b[0mPycon\u001b[0m\u001b[1;33m(\u001b[0m\u001b[1;36m10\u001b[0m\u001b[1;33m)\u001b[0m \u001b[1;31m# will raise ValueError :-)\u001b[0m\u001b[1;33m\u001b[0m\u001b[0m\n",
      "\u001b[1;32m<ipython-input-11-22cf77203b31>\u001b[0m in \u001b[0;36m__set__\u001b[1;34m(self, instance, value)\u001b[0m\n\u001b[0;32m     23\u001b[0m \u001b[1;33m\u001b[0m\u001b[0m\n\u001b[0;32m     24\u001b[0m     \u001b[1;32mdef\u001b[0m \u001b[0m__set__\u001b[0m\u001b[1;33m(\u001b[0m\u001b[0mself\u001b[0m\u001b[1;33m,\u001b[0m \u001b[0minstance\u001b[0m\u001b[1;33m,\u001b[0m \u001b[0mvalue\u001b[0m\u001b[1;33m)\u001b[0m\u001b[1;33m:\u001b[0m\u001b[1;33m\u001b[0m\u001b[0m\n\u001b[1;32m---> 25\u001b[1;33m         \u001b[1;32mreturn\u001b[0m \u001b[0mself\u001b[0m\u001b[1;33m.\u001b[0m\u001b[0msetter\u001b[0m\u001b[1;33m(\u001b[0m\u001b[0minstance\u001b[0m\u001b[1;33m,\u001b[0m \u001b[0mvalue\u001b[0m\u001b[1;33m)\u001b[0m\u001b[1;33m\u001b[0m\u001b[0m\n\u001b[0m\u001b[0;32m     26\u001b[0m \u001b[1;33m\u001b[0m\u001b[0m\n\u001b[0;32m     27\u001b[0m \u001b[1;33m@\u001b[0m\u001b[0mensure_participation\u001b[0m\u001b[1;33m(\u001b[0m\u001b[1;34m'attendees'\u001b[0m\u001b[1;33m,\u001b[0m \u001b[0mminimum\u001b[0m\u001b[1;33m=\u001b[0m\u001b[1;36m1000\u001b[0m\u001b[1;33m)\u001b[0m\u001b[1;33m\u001b[0m\u001b[0m\n",
      "\u001b[1;32m<ipython-input-11-22cf77203b31>\u001b[0m in \u001b[0;36msetter\u001b[1;34m(self, value)\u001b[0m\n\u001b[0;32m      6\u001b[0m         \u001b[1;32mdef\u001b[0m \u001b[0msetter\u001b[0m\u001b[1;33m(\u001b[0m\u001b[0mself\u001b[0m\u001b[1;33m,\u001b[0m \u001b[0mvalue\u001b[0m\u001b[1;33m)\u001b[0m\u001b[1;33m:\u001b[0m\u001b[1;33m\u001b[0m\u001b[0m\n\u001b[0;32m      7\u001b[0m             \u001b[1;32mif\u001b[0m \u001b[0mvalue\u001b[0m \u001b[1;33m<\u001b[0m \u001b[0mminimum\u001b[0m\u001b[1;33m:\u001b[0m\u001b[1;33m\u001b[0m\u001b[0m\n\u001b[1;32m----> 8\u001b[1;33m                 \u001b[1;32mraise\u001b[0m \u001b[0mValueError\u001b[0m\u001b[1;33m(\u001b[0m\u001b[0mattr\u001b[0m \u001b[1;33m+\u001b[0m \u001b[1;34m\" too less! :-(\"\u001b[0m\u001b[1;33m)\u001b[0m\u001b[1;33m\u001b[0m\u001b[0m\n\u001b[0m\u001b[0;32m      9\u001b[0m             \u001b[0msetattr\u001b[0m\u001b[1;33m(\u001b[0m\u001b[0mself\u001b[0m\u001b[1;33m,\u001b[0m \u001b[0mname\u001b[0m\u001b[1;33m,\u001b[0m \u001b[0mvalue\u001b[0m\u001b[1;33m)\u001b[0m\u001b[1;33m\u001b[0m\u001b[0m\n\u001b[0;32m     10\u001b[0m         \u001b[0msetattr\u001b[0m\u001b[1;33m(\u001b[0m\u001b[0mcls\u001b[0m\u001b[1;33m,\u001b[0m \u001b[0mattr\u001b[0m\u001b[1;33m,\u001b[0m \u001b[0mGenericDescriptor\u001b[0m\u001b[1;33m(\u001b[0m\u001b[0mgetter\u001b[0m\u001b[1;33m,\u001b[0m \u001b[0msetter\u001b[0m\u001b[1;33m)\u001b[0m\u001b[1;33m)\u001b[0m\u001b[1;33m\u001b[0m\u001b[0m\n",
      "\u001b[1;31mValueError\u001b[0m: attendees too less! :-("
     ]
    }
   ],
   "source": [
    "def ensure_participation(attr, minimum=1000):\n",
    "    def decorator(cls):\n",
    "        name = \"__\" + attr\n",
    "        def getter(self):\n",
    "            return getattr(self, name)\n",
    "        def setter(self, value):\n",
    "            if value < minimum:\n",
    "                raise ValueError(attr + \" too less! :-(\")\n",
    "            setattr(self, name, value)\n",
    "        setattr(cls, attr, GenericDescriptor(getter, setter))\n",
    "        return cls\n",
    "    return decorator\n",
    "\n",
    "class GenericDescriptor(object):\n",
    "    def __init__(self, getter, setter):\n",
    "        self.getter = getter\n",
    "        self.setter = setter\n",
    "\n",
    "    def __get__(self, instance, owner=None):\n",
    "        if instance is None:\n",
    "            return self\n",
    "        return self.getter(instance)\n",
    "\n",
    "    def __set__(self, instance, value):\n",
    "        return self.setter(instance, value)\n",
    "\n",
    "@ensure_participation('attendees', minimum=1000)\n",
    "class Pycon(object):\n",
    "    \"\"\"Pycon methods\"\"\"\n",
    "    def __init__(self, attendees):\n",
    "        self.attendees = attendees\n",
    "\n",
    "pycon = Pycon(10) # will raise ValueError :-)\n",
    "pycon = Pycon(1000) # will work fine! :-)"
   ]
  },
  {
   "cell_type": "code",
   "execution_count": 12,
   "metadata": {
    "collapsed": true
   },
   "outputs": [],
   "source": [
    "pycon = Pycon(1000)"
   ]
  }
 ],
 "metadata": {
  "kernelspec": {
   "display_name": "Python 3",
   "language": "python",
   "name": "python3"
  },
  "language_info": {
   "codemirror_mode": {
    "name": "ipython",
    "version": 3
   },
   "file_extension": ".py",
   "mimetype": "text/x-python",
   "name": "python",
   "nbconvert_exporter": "python",
   "pygments_lexer": "ipython3",
   "version": "3.4.3"
  }
 },
 "nbformat": 4,
 "nbformat_minor": 0
}
