{
 "cells": [
  {
   "cell_type": "markdown",
   "metadata": {},
   "source": [
    "# Decorators\n",
    "\n",
    "See PEPs [318](https://www.python.org/dev/peps/pep-0318/) and [3129](https://www.python.org/dev/peps/pep-3129/)"
   ]
  },
  {
   "cell_type": "code",
   "execution_count": 1,
   "metadata": {
    "collapsed": false
   },
   "outputs": [
    {
     "name": "stdout",
     "output_type": "stream",
     "text": [
      "Preprocess\n",
      "Execute foo:  7\n"
     ]
    }
   ],
   "source": [
    "def foo(x):\n",
    "    print 'Preprocess'\n",
    "    print 'Execute foo: ', x\n",
    "\n",
    "foo(7)"
   ]
  },
  {
   "cell_type": "code",
   "execution_count": 2,
   "metadata": {
    "collapsed": false
   },
   "outputs": [
    {
     "name": "stdout",
     "output_type": "stream",
     "text": [
      "Preprocess\n",
      "Execute bar:  42\n"
     ]
    }
   ],
   "source": [
    "def bar(x):\n",
    "    print 'Preprocess'\n",
    "    print 'Execute bar: ', x\n",
    "\n",
    "bar(42)"
   ]
  },
  {
   "cell_type": "markdown",
   "metadata": {},
   "source": [
    "**DRY!**"
   ]
  },
  {
   "cell_type": "code",
   "execution_count": 3,
   "metadata": {
    "collapsed": false
   },
   "outputs": [],
   "source": [
    "# We already know that a function can be passed, defined in another function or returned...\n",
    "def preprocess(f):\n",
    "    def wrap(x):\n",
    "        print 'Preprocess'\n",
    "        f(x)\n",
    "    return wrap"
   ]
  },
  {
   "cell_type": "code",
   "execution_count": 4,
   "metadata": {
    "collapsed": false
   },
   "outputs": [
    {
     "name": "stdout",
     "output_type": "stream",
     "text": [
      "Preprocess\n",
      "Execute foo:  7\n"
     ]
    }
   ],
   "source": [
    "def foo2(x):\n",
    "    print 'Execute foo: ', x\n",
    "\n",
    "pfoo2 = preprocess(foo2)\n",
    "pfoo2(7)"
   ]
  },
  {
   "cell_type": "code",
   "execution_count": 5,
   "metadata": {
    "collapsed": false
   },
   "outputs": [
    {
     "name": "stdout",
     "output_type": "stream",
     "text": [
      "Preprocess\n",
      "Execute bar:  42\n"
     ]
    }
   ],
   "source": [
    "def bar2(x):\n",
    "    print 'Execute bar: ', x\n",
    "\n",
    "pbar2 = preprocess(bar2)\n",
    "pbar2(42)"
   ]
  },
  {
   "cell_type": "markdown",
   "metadata": {},
   "source": [
    "Or..."
   ]
  },
  {
   "cell_type": "code",
   "execution_count": 6,
   "metadata": {
    "collapsed": false
   },
   "outputs": [
    {
     "name": "stdout",
     "output_type": "stream",
     "text": [
      "Preprocess\n",
      "Execute foo:  7\n"
     ]
    }
   ],
   "source": [
    "@preprocess\n",
    "def foo3(x):\n",
    "    print 'Execute foo: ', x\n",
    "    \n",
    "foo3(7)"
   ]
  },
  {
   "cell_type": "code",
   "execution_count": 7,
   "metadata": {
    "collapsed": false
   },
   "outputs": [
    {
     "name": "stdout",
     "output_type": "stream",
     "text": [
      "Preprocess\n",
      "Execute bar:  42\n"
     ]
    }
   ],
   "source": [
    "@preprocess\n",
    "def bar3(x):\n",
    "    print 'Execute bar: ', x\n",
    "\n",
    "bar3(42)"
   ]
  },
  {
   "cell_type": "markdown",
   "metadata": {},
   "source": [
    "# Common Python Decorator Patterns"
   ]
  },
  {
   "cell_type": "markdown",
   "metadata": {},
   "source": [
    "- Wrapper layer for simple timing"
   ]
  },
  {
   "cell_type": "code",
   "execution_count": 8,
   "metadata": {
    "collapsed": false
   },
   "outputs": [
    {
     "name": "stdout",
     "output_type": "stream",
     "text": [
      "foo: 0.724999904633\n"
     ]
    }
   ],
   "source": [
    "import time\n",
    "from functools import wraps\n",
    "\n",
    "def awesometimer(f):\n",
    "    '''Decorator that times a function f'''\n",
    "    @wraps(f)\n",
    "    def wrapper(*args, **kwargs):\n",
    "        start = time.time()\n",
    "        result = f(*args, **kwargs)\n",
    "        end = time.time()\n",
    "        print f.__name__ + ':', end - start\n",
    "        return result\n",
    "    return wrapper\n",
    "\n",
    "@awesometimer\n",
    "def foo(x):\n",
    "    '''Some computationally intensive function'''\n",
    "    while x % 10000000 != 0:\n",
    "        x += 1\n",
    "\n",
    "foo(1)"
   ]
  },
  {
   "cell_type": "markdown",
   "metadata": {},
   "source": [
    "- You want to write a logger which, let's assume involves passing args to a decorator"
   ]
  },
  {
   "cell_type": "code",
   "execution_count": 9,
   "metadata": {
    "collapsed": false
   },
   "outputs": [
    {
     "name": "stderr",
     "output_type": "stream",
     "text": [
      "CRITICAL:ohgodno:Oh God! Nooo!\n"
     ]
    },
    {
     "name": "stdout",
     "output_type": "stream",
     "text": [
      "Executing ohgodno\n"
     ]
    }
   ],
   "source": [
    "import logging\n",
    "from functools import wraps\n",
    "\n",
    "def logged(level, name=None, msg=None):\n",
    "    '''Adds logging'''\n",
    "    def decorate(f):\n",
    "        logname = name if name else f.__module__\n",
    "        log = logging.getLogger(logname)\n",
    "        logmsg = msg if msg else f.__name__\n",
    "        \n",
    "        @wraps(f)\n",
    "        def wrapper(*args, **kwargs):\n",
    "            log.log(level, logmsg)\n",
    "            return f(*args, **kwargs)\n",
    "        return wrapper\n",
    "    return decorate\n",
    "\n",
    "@logged(logging.CRITICAL, name='ohgodno', msg='Oh God! Nooo!')\n",
    "def ohgodno():\n",
    "    print 'Executing ohgodno'\n",
    "    \n",
    "ohgodno()"
   ]
  }
 ],
 "metadata": {
  "kernelspec": {
   "display_name": "Python 2",
   "language": "python",
   "name": "python2"
  },
  "language_info": {
   "codemirror_mode": {
    "name": "ipython",
    "version": 2
   },
   "file_extension": ".py",
   "mimetype": "text/x-python",
   "name": "python",
   "nbconvert_exporter": "python",
   "pygments_lexer": "ipython2",
   "version": "2.7.8"
  }
 },
 "nbformat": 4,
 "nbformat_minor": 0
}
