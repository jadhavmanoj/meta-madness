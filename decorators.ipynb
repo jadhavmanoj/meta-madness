{
 "metadata": {
  "name": "",
  "signature": "sha256:7c6948f7d6efc4d7369bdb9e318dd9e103869d62d05b8706e90823b724568a6a"
 },
 "nbformat": 3,
 "nbformat_minor": 0,
 "worksheets": [
  {
   "cells": [
    {
     "cell_type": "markdown",
     "metadata": {},
     "source": [
      "# Decorators\n",
      "\n",
      "See PEPs [318](https://www.python.org/dev/peps/pep-0318/) and [3129](https://www.python.org/dev/peps/pep-3129/)"
     ]
    },
    {
     "cell_type": "code",
     "collapsed": false,
     "input": [
      "def foo(x):\n",
      "    print 'Preprocess'\n",
      "    print 'Execute foo: ', x\n",
      "\n",
      "foo(7)"
     ],
     "language": "python",
     "metadata": {},
     "outputs": [
      {
       "output_type": "stream",
       "stream": "stdout",
       "text": [
        "Preprocess\n",
        "Execute foo:  7\n"
       ]
      }
     ],
     "prompt_number": 15
    },
    {
     "cell_type": "code",
     "collapsed": false,
     "input": [
      "def bar(x):\n",
      "    print 'Preprocess'\n",
      "    print 'Execue bar: ', x\n",
      "\n",
      "bar(42)"
     ],
     "language": "python",
     "metadata": {},
     "outputs": [
      {
       "output_type": "stream",
       "stream": "stdout",
       "text": [
        "Preprocess\n",
        "Execue bar:  42\n"
       ]
      }
     ],
     "prompt_number": 16
    },
    {
     "cell_type": "markdown",
     "metadata": {},
     "source": [
      "**DRY!**"
     ]
    },
    {
     "cell_type": "code",
     "collapsed": false,
     "input": [
      "# We already know that a function can be passed, defined in another function or returned...\n",
      "def preprocess(f):\n",
      "    def wrap(x):\n",
      "        print 'Preprocess'\n",
      "        f(x)\n",
      "    return wrap"
     ],
     "language": "python",
     "metadata": {},
     "outputs": [],
     "prompt_number": 17
    },
    {
     "cell_type": "code",
     "collapsed": false,
     "input": [
      "def foo2(x):\n",
      "    print 'Execute foo: ', x\n",
      "\n",
      "pfoo2 = preprocess(foo2)\n",
      "pfoo2(7)"
     ],
     "language": "python",
     "metadata": {},
     "outputs": [
      {
       "output_type": "stream",
       "stream": "stdout",
       "text": [
        "Preprocess\n",
        "Execute foo:  7\n"
       ]
      }
     ],
     "prompt_number": 19
    },
    {
     "cell_type": "code",
     "collapsed": false,
     "input": [
      "def bar2(x):\n",
      "    print 'Execue bar: ', x\n",
      "\n",
      "pbar2 = preprocess(bar2)\n",
      "pbar2(42)"
     ],
     "language": "python",
     "metadata": {},
     "outputs": [
      {
       "output_type": "stream",
       "stream": "stdout",
       "text": [
        "Preprocess\n",
        "Execue bar:  42\n"
       ]
      }
     ],
     "prompt_number": 21
    },
    {
     "cell_type": "markdown",
     "metadata": {},
     "source": [
      "# DRY!"
     ]
    },
    {
     "cell_type": "code",
     "collapsed": false,
     "input": [
      "@preprocess\n",
      "def foo3(x):\n",
      "    print 'Execute foo: ', x\n",
      "    \n",
      "foo3(7)"
     ],
     "language": "python",
     "metadata": {},
     "outputs": [
      {
       "output_type": "stream",
       "stream": "stdout",
       "text": [
        "Preprocess\n",
        "Execute foo:  7\n"
       ]
      }
     ],
     "prompt_number": 23
    },
    {
     "cell_type": "code",
     "collapsed": false,
     "input": [
      "@preprocess\n",
      "def bar3(x):\n",
      "    print 'Execue bar: ', x\n",
      "\n",
      "bar3(42)"
     ],
     "language": "python",
     "metadata": {},
     "outputs": [
      {
       "output_type": "stream",
       "stream": "stdout",
       "text": [
        "Preprocess\n",
        "Execue bar:  42\n"
       ]
      }
     ],
     "prompt_number": 24
    }
   ],
   "metadata": {}
  }
 ]
}