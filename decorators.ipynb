{
 "metadata": {
  "name": "",
  "signature": "sha256:4d900f3568b200a56d56089ab6ea5f6d763ede5b492db362c53a117b6341c32f"
 },
 "nbformat": 3,
 "nbformat_minor": 0,
 "worksheets": [
  {
   "cells": [
    {
     "cell_type": "markdown",
     "metadata": {},
     "source": [
      "# Decorators\n",
      "\n",
      "See PEPs [318](https://www.python.org/dev/peps/pep-0318/) and [3129](https://www.python.org/dev/peps/pep-3129/)"
     ]
    },
    {
     "cell_type": "code",
     "collapsed": false,
     "input": [
      "# A decorator is a function that accepts a function, and returns a function that has modified the accepted function\n",
      "# Phew! :-)\n",
      "# Wait, no it's simpler...\n",
      "def my_decorator(f):\n",
      "    def g():\n",
      "        print 'Before ' + f.__name__\n",
      "        f()\n",
      "        print 'After ' + f.__name__\n",
      "    return g"
     ],
     "language": "python",
     "metadata": {},
     "outputs": [],
     "prompt_number": 7
    },
    {
     "cell_type": "code",
     "collapsed": false,
     "input": [
      "def foo():\n",
      "    print 'Executing foo'"
     ],
     "language": "python",
     "metadata": {},
     "outputs": [],
     "prompt_number": 8
    },
    {
     "cell_type": "code",
     "collapsed": false,
     "input": [
      "# If you have been doing this so far...\n",
      "processed_foo = my_decorator(foo)\n",
      "processed_foo()"
     ],
     "language": "python",
     "metadata": {},
     "outputs": [
      {
       "output_type": "stream",
       "stream": "stdout",
       "text": [
        "Before foo\n",
        "Executing foo\n",
        "After foo\n"
       ]
      }
     ],
     "prompt_number": 12
    },
    {
     "cell_type": "code",
     "collapsed": false,
     "input": [
      "# Do this instead...\n",
      "@my_decorator\n",
      "def foo2():\n",
      "    print 'Executing foo'\n",
      "\n",
      "foo2()"
     ],
     "language": "python",
     "metadata": {},
     "outputs": [
      {
       "output_type": "stream",
       "stream": "stdout",
       "text": [
        "Before foo2\n",
        "Executing foo\n",
        "After foo2\n"
       ]
      }
     ],
     "prompt_number": 14
    }
   ],
   "metadata": {}
  }
 ]
}