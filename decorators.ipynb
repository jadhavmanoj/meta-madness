{
 "cells": [
  {
   "cell_type": "markdown",
   "metadata": {},
   "source": [
    "# Decorators\n",
    "\n",
    "See PEPs [318](https://www.python.org/dev/peps/pep-0318/) and [3129](https://www.python.org/dev/peps/pep-3129/)"
   ]
  },
  {
   "cell_type": "code",
   "execution_count": null,
   "metadata": {
    "collapsed": false
   },
   "outputs": [],
   "source": [
    "def add(a, b):\n",
    "    print('Adding a and b')\n",
    "    return a + b\n",
    "\n",
    "add(2, 3)"
   ]
  },
  {
   "cell_type": "code",
   "execution_count": null,
   "metadata": {
    "collapsed": false
   },
   "outputs": [],
   "source": [
    "def add(a, b):\n",
    "    print('Add')\n",
    "    print(a + b)\n",
    "\n",
    "def sub(a, b):\n",
    "    print('Subtract')\n",
    "    print(a - b)\n",
    "\n",
    "def mul(a, b):\n",
    "    print('Multiply')\n",
    "    print(a * b)\n",
    "\n",
    "def div(a, b):\n",
    "    print('Divide')\n",
    "    print(a / b)"
   ]
  },
  {
   "cell_type": "markdown",
   "metadata": {},
   "source": [
    "**DRY!**"
   ]
  },
  {
   "cell_type": "code",
   "execution_count": null,
   "metadata": {
    "collapsed": false
   },
   "outputs": [],
   "source": [
    "# We already know that a function can be passed, defined in another function or returned...\n",
    "def debug(f):\n",
    "    def wrap(a, b):\n",
    "        print(f.__qualname__)\n",
    "        f(a, b)\n",
    "    return wrap"
   ]
  },
  {
   "cell_type": "code",
   "execution_count": null,
   "metadata": {
    "collapsed": false
   },
   "outputs": [],
   "source": [
    "wrappedadd = debug(add)\n",
    "wrappedadd(2, 3)"
   ]
  },
  {
   "cell_type": "code",
   "execution_count": null,
   "metadata": {
    "collapsed": false
   },
   "outputs": [],
   "source": [
    "@debug\n",
    "def add(a, b):\n",
    "    print(a + b)\n",
    "\n",
    "@debug\n",
    "def sub(a, b):\n",
    "    print(a - b)\n",
    "\n",
    "@debug\n",
    "def mul(a, b):\n",
    "    print(a * b)\n",
    "    \n",
    "@debug\n",
    "def div(a, b):\n",
    "    print(a / b)\n",
    "    \n",
    "add(2, 3)    "
   ]
  },
  {
   "cell_type": "markdown",
   "metadata": {},
   "source": [
    "#### Decorators with args"
   ]
  },
  {
   "cell_type": "code",
   "execution_count": null,
   "metadata": {
    "collapsed": false
   },
   "outputs": [],
   "source": [
    "from functools import wraps\n",
    "def debug(msg):\n",
    "    def wrap_decorator(func):\n",
    "        @wraps(func)\n",
    "        def wrap_func(*args, **kwargs):\n",
    "            print('{} {}'.format(msg, func.__qualname__))\n",
    "            func(*args, **kwargs)\n",
    "        return wrap_func\n",
    "    return wrap_decorator\n",
    "\n",
    "@debug('I AM HERE:')\n",
    "def add(a, b):\n",
    "    print(a + b)\n",
    "    \n",
    "add(1, 2)"
   ]
  },
  {
   "cell_type": "code",
   "execution_count": null,
   "metadata": {
    "collapsed": false
   },
   "outputs": [],
   "source": [
    "def debug(func):\n",
    "    @wraps(func)\n",
    "    def wrapper(*args, **kwargs):\n",
    "        print(func.__qualname__)\n",
    "        print('Im now turning bad: I wont even execute ' + func.__qualname__)\n",
    "    return wrapper\n",
    "\n",
    "def debugcls(cls):\n",
    "    for key, val in vars(cls).items():\n",
    "        if callable(val):\n",
    "            setattr(cls, key, debug(val))\n",
    "    return cls\n",
    "\n",
    "@debugcls\n",
    "class Foo:\n",
    "    def add(self, a, b):\n",
    "        print(a + b)\n",
    "    def sub(self, a, b):\n",
    "        print(a - b)\n",
    "\n",
    "f = Foo()\n",
    "f.add(1, 2)"
   ]
  },
  {
   "cell_type": "markdown",
   "metadata": {},
   "source": [
    "# Common Python Decorator Patterns"
   ]
  },
  {
   "cell_type": "markdown",
   "metadata": {},
   "source": [
    "- Wrapper layer for simple timing"
   ]
  },
  {
   "cell_type": "code",
   "execution_count": null,
   "metadata": {
    "collapsed": false
   },
   "outputs": [],
   "source": [
    "import time\n",
    "from functools import wraps\n",
    "\n",
    "def awesometimer(f):\n",
    "    '''Decorator that times a function f'''\n",
    "    @wraps(f)\n",
    "    def wrapper(*args, **kwargs):\n",
    "        start = time.time()\n",
    "        result = f(*args, **kwargs)\n",
    "        end = time.time()\n",
    "        print(f.__name__ + ':', end - start)\n",
    "        return result\n",
    "    return wrapper\n",
    "\n",
    "@awesometimer\n",
    "def foo(x):\n",
    "    '''Some computationally intensive function'''\n",
    "    while x % 10000000 != 0:\n",
    "        x += 1\n",
    "\n",
    "foo(1)"
   ]
  },
  {
   "cell_type": "markdown",
   "metadata": {},
   "source": [
    "- You want to write a logger which, let's assume involves passing args to a decorator"
   ]
  },
  {
   "cell_type": "code",
   "execution_count": null,
   "metadata": {
    "collapsed": false
   },
   "outputs": [],
   "source": [
    "import logging\n",
    "from functools import wraps\n",
    "\n",
    "def logged(level, name=None, msg=None):\n",
    "    '''Adds logging'''\n",
    "    def decorate(f):\n",
    "        logname = name if name else f.__module__\n",
    "        log = logging.getLogger(logname)\n",
    "        logmsg = msg if msg else f.__name__\n",
    "        \n",
    "        @wraps(f)\n",
    "        def wrapper(*args, **kwargs):\n",
    "            log.log(level, logmsg)\n",
    "            return f(*args, **kwargs)\n",
    "        return wrapper\n",
    "    return decorate\n",
    "\n",
    "@logged(logging.CRITICAL, name='ohgodno', msg='Oh God! Nooo!')\n",
    "def ohgodno():\n",
    "    print('Executing ohgodno')\n",
    "    \n",
    "ohgodno()"
   ]
  },
  {
   "cell_type": "markdown",
   "metadata": {},
   "source": [
    "# Class as a decorator\n",
    "\n",
    "(... not decorating a class, that comes later too!)"
   ]
  },
  {
   "cell_type": "code",
   "execution_count": null,
   "metadata": {
    "collapsed": false
   },
   "outputs": [],
   "source": [
    "class ComplexProcessor(object):\n",
    "    \"\"\"Amazing decorator\"\"\"\n",
    "    def __init__(self, f):\n",
    "        self.f, self.complex_flag = f, 0\n",
    "        wraps(f)(self)\n",
    "    \n",
    "    def complex_method(self):\n",
    "        \"\"\"complex processing\"\"\"\n",
    "        self.complex_flag = 5\n",
    "\n",
    "    def __call__(self, *args, **kwargs):\n",
    "        \"\"\"magic happens here\"\"\"\n",
    "        print('State: ', self.complex_flag)\n",
    "        print('Begin complex processing...')\n",
    "        self.complex_method()\n",
    "        print('End complex processing')\n",
    "        print('State: ', self.complex_flag)\n",
    "        response = self.f(*args, **kwargs)\n",
    "        print('Post execution cleanup')\n",
    "        return response\n",
    "\n",
    "\n",
    "@ComplexProcessor\n",
    "def foo4():\n",
    "    \"\"\"Some repeated function pattern\"\"\"\n",
    "    print('foo4')\n",
    "\n",
    "foo4()"
   ]
  },
  {
   "cell_type": "markdown",
   "metadata": {},
   "source": [
    "# Decorating a class\n",
    "[PEP 3129](https://www.python.org/dev/peps/pep-3129/)"
   ]
  },
  {
   "cell_type": "code",
   "execution_count": null,
   "metadata": {
    "collapsed": false
   },
   "outputs": [],
   "source": [
    "def ensure_participation(attr, minimum=1000):\n",
    "    def decorator(cls):\n",
    "        name = \"__\" + attr\n",
    "        def getter(self):\n",
    "            return getattr(self, name)\n",
    "        def setter(self, value):\n",
    "            if value < minimum:\n",
    "                raise ValueError(attr + \" too less! :-(\")\n",
    "            setattr(self, name, value)\n",
    "        setattr(cls, attr, GenericDescriptor(getter, setter))\n",
    "        return cls\n",
    "    return decorator\n",
    "\n",
    "class GenericDescriptor(object):\n",
    "    def __init__(self, getter, setter):\n",
    "        self.getter = getter\n",
    "        self.setter = setter\n",
    "\n",
    "    def __get__(self, instance, owner=None):\n",
    "        if instance is None:\n",
    "            return self\n",
    "        return self.getter(instance)\n",
    "\n",
    "    def __set__(self, instance, value):\n",
    "        return self.setter(instance, value)\n",
    "\n",
    "@ensure_participation('attendees', minimum=1000)\n",
    "class Pycon(object):\n",
    "    \"\"\"Pycon methods\"\"\"\n",
    "    def __init__(self, attendees):\n",
    "        self.attendees = attendees\n",
    "\n",
    "pycon = Pycon(10) # will raise ValueError :-)\n",
    "pycon = Pycon(1000) # will work fine! :-)"
   ]
  },
  {
   "cell_type": "code",
   "execution_count": null,
   "metadata": {
    "collapsed": true
   },
   "outputs": [],
   "source": [
    "pycon = Pycon(1000)"
   ]
  }
 ],
 "metadata": {
  "kernelspec": {
   "display_name": "Python 3",
   "language": "python",
   "name": "python3"
  },
  "language_info": {
   "codemirror_mode": {
    "name": "ipython",
    "version": 3
   },
   "file_extension": ".py",
   "mimetype": "text/x-python",
   "name": "python",
   "nbconvert_exporter": "python",
   "pygments_lexer": "ipython3",
   "version": "3.4.3"
  }
 },
 "nbformat": 4,
 "nbformat_minor": 0
}
