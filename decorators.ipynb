{
 "cells": [
  {
   "cell_type": "markdown",
   "metadata": {},
   "source": [
    "# Decorators\n",
    "\n",
    "See PEPs [318](https://www.python.org/dev/peps/pep-0318/) and [3129](https://www.python.org/dev/peps/pep-3129/)"
   ]
  },
  {
   "cell_type": "code",
   "execution_count": 1,
   "metadata": {
    "collapsed": false
   },
   "outputs": [
    {
     "name": "stdout",
     "output_type": "stream",
     "text": [
      "Preprocess\n",
      "Execute foo:  7\n"
     ]
    }
   ],
   "source": [
    "def foo(x):\n",
    "    print 'Preprocess'\n",
    "    print 'Execute foo: ', x\n",
    "\n",
    "foo(7)"
   ]
  },
  {
   "cell_type": "code",
   "execution_count": 2,
   "metadata": {
    "collapsed": false
   },
   "outputs": [
    {
     "name": "stdout",
     "output_type": "stream",
     "text": [
      "Preprocess\n",
      "Execute bar:  42\n"
     ]
    }
   ],
   "source": [
    "def bar(x):\n",
    "    print 'Preprocess'\n",
    "    print 'Execute bar: ', x\n",
    "\n",
    "bar(42)"
   ]
  },
  {
   "cell_type": "markdown",
   "metadata": {},
   "source": [
    "**DRY!**"
   ]
  },
  {
   "cell_type": "code",
   "execution_count": 3,
   "metadata": {
    "collapsed": false
   },
   "outputs": [],
   "source": [
    "# We already know that a function can be passed, defined in another function or returned...\n",
    "def preprocess(f):\n",
    "    def wrap(x):\n",
    "        print 'Preprocess'\n",
    "        f(x)\n",
    "    return wrap"
   ]
  },
  {
   "cell_type": "code",
   "execution_count": 4,
   "metadata": {
    "collapsed": false
   },
   "outputs": [
    {
     "name": "stdout",
     "output_type": "stream",
     "text": [
      "Preprocess\n",
      "Execute foo:  7\n"
     ]
    }
   ],
   "source": [
    "def foo2(x):\n",
    "    print 'Execute foo: ', x\n",
    "\n",
    "pfoo2 = preprocess(foo2)\n",
    "pfoo2(7)"
   ]
  },
  {
   "cell_type": "code",
   "execution_count": 5,
   "metadata": {
    "collapsed": false
   },
   "outputs": [
    {
     "name": "stdout",
     "output_type": "stream",
     "text": [
      "Preprocess\n",
      "Execute bar:  42\n"
     ]
    }
   ],
   "source": [
    "def bar2(x):\n",
    "    print 'Execute bar: ', x\n",
    "\n",
    "pbar2 = preprocess(bar2)\n",
    "pbar2(42)"
   ]
  },
  {
   "cell_type": "markdown",
   "metadata": {},
   "source": [
    "# DRY!"
   ]
  },
  {
   "cell_type": "code",
   "execution_count": 6,
   "metadata": {
    "collapsed": false
   },
   "outputs": [
    {
     "name": "stdout",
     "output_type": "stream",
     "text": [
      "Preprocess\n",
      "Execute foo:  7\n"
     ]
    }
   ],
   "source": [
    "@preprocess\n",
    "def foo3(x):\n",
    "    print 'Execute foo: ', x\n",
    "    \n",
    "foo3(7)"
   ]
  },
  {
   "cell_type": "code",
   "execution_count": 7,
   "metadata": {
    "collapsed": false
   },
   "outputs": [
    {
     "name": "stdout",
     "output_type": "stream",
     "text": [
      "Preprocess\n",
      "Execute bar:  42\n"
     ]
    }
   ],
   "source": [
    "@preprocess\n",
    "def bar3(x):\n",
    "    print 'Execute bar: ', x\n",
    "\n",
    "bar3(42)"
   ]
  }
 ],
 "metadata": {
  "kernelspec": {
   "display_name": "Python 2",
   "language": "python",
   "name": "python2"
  },
  "language_info": {
   "codemirror_mode": {
    "name": "ipython",
    "version": 2
   },
   "file_extension": ".py",
   "mimetype": "text/x-python",
   "name": "python",
   "nbconvert_exporter": "python",
   "pygments_lexer": "ipython2",
   "version": "2.7.8"
  }
 },
 "nbformat": 4,
 "nbformat_minor": 0
}
