{
 "metadata": {
  "name": "",
  "signature": "sha256:741689645d3fa642ee45f3c33e3f2c39df696c3e638a029d8f4e9be6bbd8a350"
 },
 "nbformat": 3,
 "nbformat_minor": 0,
 "worksheets": [
  {
   "cells": [
    {
     "cell_type": "markdown",
     "metadata": {},
     "source": [
      "# Functions"
     ]
    },
    {
     "cell_type": "code",
     "collapsed": false,
     "input": [
      "def add(a, b):\n",
      "    # Can be single or multiline\n",
      "    # with comments\n",
      "    # and other operations\n",
      "    return a + b\n",
      "\n",
      "add(2, 3)"
     ],
     "language": "python",
     "metadata": {},
     "outputs": [
      {
       "metadata": {},
       "output_type": "pyout",
       "prompt_number": 5,
       "text": [
        "5"
       ]
      }
     ],
     "prompt_number": 5
    },
    {
     "cell_type": "code",
     "collapsed": false,
     "input": [
      "# Can be single-line lambdas\n",
      "mul = lambda x, y: x * y\n",
      "\n",
      "mul(2, 3)"
     ],
     "language": "python",
     "metadata": {},
     "outputs": [
      {
       "metadata": {},
       "output_type": "pyout",
       "prompt_number": 6,
       "text": [
        "6"
       ]
      }
     ],
     "prompt_number": 6
    },
    {
     "cell_type": "markdown",
     "metadata": {},
     "source": [
      "**Assign functions to variables**"
     ]
    },
    {
     "cell_type": "code",
     "collapsed": false,
     "input": [
      "another_add = add\n",
      "another_add"
     ],
     "language": "python",
     "metadata": {},
     "outputs": [
      {
       "metadata": {},
       "output_type": "pyout",
       "prompt_number": 7,
       "text": [
        "<function __main__.add>"
       ]
      }
     ],
     "prompt_number": 7
    },
    {
     "cell_type": "markdown",
     "metadata": {},
     "source": [
      "**Functions can be passed**"
     ]
    },
    {
     "cell_type": "code",
     "collapsed": false,
     "input": [
      "def apply_func(f, a, b):\n",
      "    return f(a, b)\n",
      "\n",
      "apply_func(another_add, 2, 3)"
     ],
     "language": "python",
     "metadata": {},
     "outputs": [
      {
       "metadata": {},
       "output_type": "pyout",
       "prompt_number": 8,
       "text": [
        "5"
       ]
      }
     ],
     "prompt_number": 8
    },
    {
     "cell_type": "markdown",
     "metadata": {},
     "source": [
      "**Can be defined inside other functions**"
     ]
    },
    {
     "cell_type": "code",
     "collapsed": false,
     "input": [
      "def custom_add(a):\n",
      "    def add3():\n",
      "        return a + 3\n",
      "    def add5():\n",
      "        return a + 5\n",
      "    \n",
      "    if a%2 == 0:\n",
      "        return add3()\n",
      "    else:\n",
      "        return add5()\n",
      "\n",
      "custom_add(2)"
     ],
     "language": "python",
     "metadata": {},
     "outputs": [
      {
       "metadata": {},
       "output_type": "pyout",
       "prompt_number": 15,
       "text": [
        "5"
       ]
      }
     ],
     "prompt_number": 15
    },
    {
     "cell_type": "markdown",
     "metadata": {},
     "source": [
      "**Can be returned**"
     ]
    },
    {
     "cell_type": "code",
     "collapsed": false,
     "input": [
      "def adder(a):\n",
      "    def add(b):\n",
      "        return a + b\n",
      "    return add\n",
      "\n",
      "add3 = adder(3)\n",
      "add3(5)"
     ],
     "language": "python",
     "metadata": {},
     "outputs": [
      {
       "metadata": {},
       "output_type": "pyout",
       "prompt_number": 16,
       "text": [
        "8"
       ]
      }
     ],
     "prompt_number": 16
    }
   ],
   "metadata": {}
  }
 ]
}